{
 "cells": [
  {
   "cell_type": "code",
   "execution_count": 1,
   "id": "2f151542",
   "metadata": {},
   "outputs": [],
   "source": [
    "import cv2 as cv \n",
    "import numpy as np"
   ]
  },
  {
   "cell_type": "code",
   "execution_count": 6,
   "id": "5f9703ab",
   "metadata": {},
   "outputs": [],
   "source": [
    "def camera_calibration(verbose = False):\n",
    "    # termination criteria\n",
    "    criteria = (cv.TERM_CRITERIA_EPS + cv.TERM_CRITERIA_MAX_ITER, 30, 0.001)\n",
    "    # prepare object points, like (0,0,0), (1,0,0), (2,0,0) ....,(6,5,0)\n",
    "    objp = np.zeros((6*9,3), np.float32)\n",
    "    # In this case, we don't know square size since we didn't take those images, so we pass in terms of square size\n",
    "    objp[:,:2] = np.mgrid[0:9,0:6].T.reshape(-1,2)\n",
    "    # Arrays to store object points and image points from all the images.\n",
    "    \n",
    "    objpoints = [] # 3d point in real world space, \n",
    "    imgpoints = [] # 2d points in image plane.\n",
    "    \n",
    "    \n",
    "    # define a video capture object\n",
    "    vid = cv.VideoCapture('Data\\calibration.mp4')\n",
    "    ret, img = vid.read()\n",
    "    gray = cv.cvtColor(img, cv.COLOR_BGR2GRAY)\n",
    "    \n",
    "    count = 0\n",
    "    while(True):\n",
    "\n",
    "        # Capture the video frame\n",
    "        # by frame\n",
    "        ret, img = vid.read()\n",
    "\n",
    "        if not ret:\n",
    "            print(f'No frames grabbed!, total frame {count}')\n",
    "            break\n",
    "\n",
    "        # we count the number of frame \n",
    "        # we wanted to pick 40 frames from the video sequence\n",
    "        # we pick them uniformaly \n",
    "        # total frame : 2419\n",
    "        if count % 60 == 0:\n",
    "\n",
    "            # convert to gray scale\n",
    "            gray = cv.cvtColor(img, cv.COLOR_BGR2GRAY)\n",
    "            \n",
    "            #find the chess board corners, It returns the corner points\n",
    "            #                                            what kind of pattern we are looking for,\n",
    "            ret, corners = cv.findChessboardCorners(gray, (9,6), None)\n",
    "\n",
    "            # If found, add object points, image points (after refining them)\n",
    "            if ret == True:\n",
    "                objpoints.append(objp)\n",
    "                # Once we find the corners, we can increase their accuracy using cv.cornerSubPix()\n",
    "                corners2 = cv.cornerSubPix(gray,corners, (11,11), (-1,-1), criteria)\n",
    "                imgpoints.append(corners2)\n",
    "                if verbose:\n",
    "                     # Draw and display the corners\n",
    "                    cv.drawChessboardCorners(img, (9,6), corners2, ret)\n",
    "                    cv.namedWindow(\"win1\", cv.WINDOW_NORMAL )\n",
    "                    cv.imshow('win1', img)\n",
    "        # the 'q' button is set as the\n",
    "        # quitting button you may use any\n",
    "        # desired button of your choice\n",
    "        if cv.waitKey(500) & 0xFF == ord('q'):\n",
    "            break\n",
    "\n",
    "        count +=1 \n",
    "\n",
    "    # After the loop release the cap object\n",
    "    vid.release()\n",
    "\n",
    "\n",
    "    # Destroy all the windows\n",
    "    cv.destroyAllWindows()\n",
    "    # Now that we have our object points and image points, we are ready to go for calibration.\n",
    "    # calibartion calibartion\n",
    "    # return camera matrix, distortion coefficients, rotation and translation vectors\n",
    "    ret, mtx, dist, rvecs, tvecs = cv.calibrateCamera(objpoints, imgpoints, gray.shape[::-1], None, None)\n",
    "    # save file \n",
    "    #np.save(\"Data/camera_matrix\", mtx)\n",
    "    #np.save(\"Data/dist_coef\", dist)\n",
    "    return mtx,dist "
   ]
  },
  {
   "cell_type": "code",
   "execution_count": 7,
   "id": "9db79dfe",
   "metadata": {},
   "outputs": [],
   "source": [
    "mtx, dist = camera_calibration(verbose = True)"
   ]
  },
  {
   "cell_type": "code",
   "execution_count": 12,
   "id": "396b2139",
   "metadata": {},
   "outputs": [
    {
     "data": {
      "text/plain": [
       "array([[1.66488939e+03, 0.00000000e+00, 9.52968875e+02],\n",
       "       [0.00000000e+00, 1.66727534e+03, 5.29233098e+02],\n",
       "       [0.00000000e+00, 0.00000000e+00, 1.00000000e+00]])"
      ]
     },
     "execution_count": 12,
     "metadata": {},
     "output_type": "execute_result"
    }
   ],
   "source": [
    "mtx"
   ]
  },
  {
   "cell_type": "code",
   "execution_count": 8,
   "id": "041dc3ab",
   "metadata": {},
   "outputs": [
    {
     "data": {
      "text/plain": [
       "array([[ 1.23764716e-01, -1.59125045e-01,  2.62414401e-05,\n",
       "        -1.87954245e-03,  6.36970080e-02]])"
      ]
     },
     "execution_count": 8,
     "metadata": {},
     "output_type": "execute_result"
    }
   ],
   "source": [
    "dist"
   ]
  }
 ],
 "metadata": {
  "kernelspec": {
   "display_name": "Python 3 (ipykernel)",
   "language": "python",
   "name": "python3"
  },
  "language_info": {
   "codemirror_mode": {
    "name": "ipython",
    "version": 3
   },
   "file_extension": ".py",
   "mimetype": "text/x-python",
   "name": "python",
   "nbconvert_exporter": "python",
   "pygments_lexer": "ipython3",
   "version": "3.9.17"
  }
 },
 "nbformat": 4,
 "nbformat_minor": 5
}
